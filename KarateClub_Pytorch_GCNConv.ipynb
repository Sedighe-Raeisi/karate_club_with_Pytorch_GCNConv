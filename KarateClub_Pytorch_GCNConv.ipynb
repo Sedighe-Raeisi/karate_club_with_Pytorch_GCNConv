{
  "cells": [
    {
      "cell_type": "markdown",
      "metadata": {
        "id": "view-in-github",
        "colab_type": "text"
      },
      "source": [
        "<a href=\"https://colab.research.google.com/github/Sedighe-Raeisi/karate_club_with_Pytorch_GCNConv/blob/main/KarateClub_Pytorch_GCNConv.ipynb\" target=\"_parent\"><img src=\"https://colab.research.google.com/assets/colab-badge.svg\" alt=\"Open In Colab\"/></a>"
      ]
    },
    {
      "cell_type": "code",
      "execution_count": 1,
      "metadata": {
        "colab": {
          "base_uri": "https://localhost:8080/"
        },
        "id": "vwbYxBG2hBRW",
        "outputId": "1d5cb670-6d02-460f-e86f-71758ff12b0b"
      },
      "outputs": [
        {
          "output_type": "stream",
          "name": "stdout",
          "text": [
            "Looking in indexes: https://pypi.org/simple, https://us-python.pkg.dev/colab-wheels/public/simple/\n",
            "Collecting torch_geometric\n",
            "  Downloading torch_geometric-2.0.4.tar.gz (407 kB)\n",
            "\u001b[K     |████████████████████████████████| 407 kB 1.7 MB/s \n",
            "\u001b[?25hRequirement already satisfied: tqdm in /usr/local/lib/python3.7/dist-packages (from torch_geometric) (4.64.0)\n",
            "Requirement already satisfied: numpy in /usr/local/lib/python3.7/dist-packages (from torch_geometric) (1.21.6)\n",
            "Requirement already satisfied: scipy in /usr/local/lib/python3.7/dist-packages (from torch_geometric) (1.4.1)\n",
            "Requirement already satisfied: pandas in /usr/local/lib/python3.7/dist-packages (from torch_geometric) (1.3.5)\n",
            "Requirement already satisfied: jinja2 in /usr/local/lib/python3.7/dist-packages (from torch_geometric) (2.11.3)\n",
            "Requirement already satisfied: requests in /usr/local/lib/python3.7/dist-packages (from torch_geometric) (2.23.0)\n",
            "Requirement already satisfied: pyparsing in /usr/local/lib/python3.7/dist-packages (from torch_geometric) (3.0.9)\n",
            "Requirement already satisfied: scikit-learn in /usr/local/lib/python3.7/dist-packages (from torch_geometric) (1.0.2)\n",
            "Requirement already satisfied: MarkupSafe>=0.23 in /usr/local/lib/python3.7/dist-packages (from jinja2->torch_geometric) (2.0.1)\n",
            "Requirement already satisfied: python-dateutil>=2.7.3 in /usr/local/lib/python3.7/dist-packages (from pandas->torch_geometric) (2.8.2)\n",
            "Requirement already satisfied: pytz>=2017.3 in /usr/local/lib/python3.7/dist-packages (from pandas->torch_geometric) (2022.1)\n",
            "Requirement already satisfied: six>=1.5 in /usr/local/lib/python3.7/dist-packages (from python-dateutil>=2.7.3->pandas->torch_geometric) (1.15.0)\n",
            "Requirement already satisfied: chardet<4,>=3.0.2 in /usr/local/lib/python3.7/dist-packages (from requests->torch_geometric) (3.0.4)\n",
            "Requirement already satisfied: urllib3!=1.25.0,!=1.25.1,<1.26,>=1.21.1 in /usr/local/lib/python3.7/dist-packages (from requests->torch_geometric) (1.24.3)\n",
            "Requirement already satisfied: idna<3,>=2.5 in /usr/local/lib/python3.7/dist-packages (from requests->torch_geometric) (2.10)\n",
            "Requirement already satisfied: certifi>=2017.4.17 in /usr/local/lib/python3.7/dist-packages (from requests->torch_geometric) (2022.6.15)\n",
            "Requirement already satisfied: joblib>=0.11 in /usr/local/lib/python3.7/dist-packages (from scikit-learn->torch_geometric) (1.1.0)\n",
            "Requirement already satisfied: threadpoolctl>=2.0.0 in /usr/local/lib/python3.7/dist-packages (from scikit-learn->torch_geometric) (3.1.0)\n",
            "Building wheels for collected packages: torch-geometric\n",
            "  Building wheel for torch-geometric (setup.py) ... \u001b[?25l\u001b[?25hdone\n",
            "  Created wheel for torch-geometric: filename=torch_geometric-2.0.4-py3-none-any.whl size=616603 sha256=8f8909782f9c9dd616e97f27719d15cb87699f8c67dd987d5c2ad2cd792ed907\n",
            "  Stored in directory: /root/.cache/pip/wheels/18/a6/a4/ca18c3051fcead866fe7b85700ee2240d883562a1bc70ce421\n",
            "Successfully built torch-geometric\n",
            "Installing collected packages: torch-geometric\n",
            "Successfully installed torch-geometric-2.0.4\n",
            "Looking in indexes: https://pypi.org/simple, https://us-python.pkg.dev/colab-wheels/public/simple/\n",
            "Collecting torch_sparse\n",
            "  Downloading torch_sparse-0.6.14.tar.gz (51 kB)\n",
            "\u001b[K     |████████████████████████████████| 51 kB 180 kB/s \n",
            "\u001b[?25hRequirement already satisfied: scipy in /usr/local/lib/python3.7/dist-packages (from torch_sparse) (1.4.1)\n",
            "Requirement already satisfied: numpy>=1.13.3 in /usr/local/lib/python3.7/dist-packages (from scipy->torch_sparse) (1.21.6)\n",
            "Building wheels for collected packages: torch-sparse\n",
            "  Building wheel for torch-sparse (setup.py) ... \u001b[?25l\u001b[?25hdone\n",
            "  Created wheel for torch-sparse: filename=torch_sparse-0.6.14-cp37-cp37m-linux_x86_64.whl size=514667 sha256=9d2adefe73d61d4a82012d6771572235393a64b6c3c25167b630725859151a64\n",
            "  Stored in directory: /root/.cache/pip/wheels/3c/aa/62/db0259eae2abce84f1ee2cf1c531bba683aab4bf79054172f8\n",
            "Successfully built torch-sparse\n",
            "Installing collected packages: torch-sparse\n",
            "Successfully installed torch-sparse-0.6.14\n",
            "Looking in indexes: https://pypi.org/simple, https://us-python.pkg.dev/colab-wheels/public/simple/\n",
            "Collecting torch_scatter\n",
            "  Downloading torch_scatter-2.0.9.tar.gz (21 kB)\n",
            "Building wheels for collected packages: torch-scatter\n",
            "  Building wheel for torch-scatter (setup.py) ... \u001b[?25l\u001b[?25hdone\n",
            "  Created wheel for torch-scatter: filename=torch_scatter-2.0.9-cp37-cp37m-linux_x86_64.whl size=279639 sha256=5f3e6f751daaa223f24b4e6435bcb798829b8e6f8e93078e81dc807d857e4c17\n",
            "  Stored in directory: /root/.cache/pip/wheels/dd/57/a3/42ea193b77378ce634eb9454c9bc1e3163f3b482a35cdee4d1\n",
            "Successfully built torch-scatter\n",
            "Installing collected packages: torch-scatter\n",
            "Successfully installed torch-scatter-2.0.9\n"
          ]
        }
      ],
      "source": [
        "!pip install torch_geometric\n",
        "!pip install torch_sparse\n",
        "!pip install torch_scatter"
      ]
    },
    {
      "cell_type": "markdown",
      "source": [
        "#Making the Model:"
      ],
      "metadata": {
        "id": "6hiWSOh3zuDq"
      }
    },
    {
      "cell_type": "code",
      "execution_count": 2,
      "metadata": {
        "id": "v4QDlaSDLBKL"
      },
      "outputs": [],
      "source": [
        "from torch.nn import Linear \n",
        "from torch_geometric.nn import GCNConv\n",
        "from torch.nn import Module\n",
        "import torch\n",
        "import torch.nn.functional as F"
      ]
    },
    {
      "cell_type": "markdown",
      "source": [
        "To define the model we can use the instruction in the link: [link text](https://pytorch-geometric.readthedocs.io/en/latest/modules/nn.html)"
      ],
      "metadata": {
        "id": "rn69vV-Iz4LR"
      }
    },
    {
      "cell_type": "code",
      "execution_count": 3,
      "metadata": {
        "id": "x3WqVP68Y7ZI"
      },
      "outputs": [],
      "source": [
        "class model(Module):\n",
        "  def __init__(self,inn_chan,hidden_chan,out_chan):\n",
        "    super(model, self).__init__()\n",
        "    self.GCN1=GCNConv(inn_chan,hidden_chan)\n",
        "    self.GCN2=GCNConv(hidden_chan,out_chan)\n",
        "    self.lin=torch.nn.Linear(out_chan,2)\n",
        "  def forward(self,x,edge_index):\n",
        "    h=self.GCN1(x,edge_index)\n",
        "    h=torch.relu(h)\n",
        "    h=self.GCN2(h,edge_index)\n",
        "    h=torch.relu(h)\n",
        "    h=self.lin(h)\n",
        "    h=F.softmax(h,1)\n",
        "    return h"
      ]
    },
    {
      "cell_type": "markdown",
      "metadata": {
        "id": "o8aUg0au6_mt"
      },
      "source": [
        "#Defining the graph"
      ]
    },
    {
      "cell_type": "markdown",
      "source": [
        "⭐ You can download the data \n",
        "\n",
        "\n",
        "\n",
        "\n",
        "\n",
        "*   as a pair of nodes with a common edge from this link: [link text](https://networkrepository.com/soc-karate.php)\n",
        "*   or as an adjacency matrix from this link: [link text](http://vlado.fmf.uni-lj.si/pub/networks/data/Ucinet/UciData.htm#zachary)\n",
        "\n",
        "There is a very important difference between these two links, the weight of each edge does not exist in the first link.\n",
        "\n",
        "\n",
        "\n"
      ],
      "metadata": {
        "id": "P1Kbc6w-F6Mk"
      }
    },
    {
      "cell_type": "markdown",
      "metadata": {
        "id": "azrQUC8TqYOD"
      },
      "source": [
        "##Prepairing the dataset. Here I show how to prepare the data to feed into the model. \n",
        "\n",
        "1.   In the first method, we manually make features of nodes,  X, and the edge-index  \n",
        "2.   In the second method we use the NetworkX and we import it to PyTorch. We can either define the graph in Networkx manually or use the karate club dataset in this library. "
      ]
    },
    {
      "cell_type": "code",
      "source": [
        "# !cp /content/karate_club_edge.txt -r /content/drive/MyDrive/MachineLearing/GNN"
      ],
      "metadata": {
        "id": "B7RLWgDkLB9b"
      },
      "execution_count": 4,
      "outputs": []
    },
    {
      "cell_type": "code",
      "execution_count": 5,
      "metadata": {
        "id": "uniA3o_lP3ss"
      },
      "outputs": [],
      "source": [
        "# we read the edge indexes as a pair of integer numbers from a text file. \n",
        "# node indexes began from 1, we change them in order to begin from 0 to better fit with the python indexing format.\n",
        "f=open('/content/drive/MyDrive/MachineLearing/GNN/karate_club_edge.txt','r')\n",
        "src_node=[]\n",
        "dst_node=[]\n",
        "for i in range(78):\n",
        "  edge=f.readline()\n",
        "  \n",
        "  src=int(edge.split()[0])-1\n",
        "  dst=int(edge.split()[1])-1\n",
        "  src_node.append(src)\n",
        "  dst_node.append(dst)"
      ]
    },
    {
      "cell_type": "code",
      "execution_count": 6,
      "metadata": {
        "id": "nMv0QqjD7v-1"
      },
      "outputs": [],
      "source": [
        "# src_node=[1, 2, 3, 4, 5, 6, 7, 8, 10, 11, 12, 13, 17, 19, 21, 31, 2, 3, 7, 13, \n",
        "#           17, 19, 21, 30, 3, 7, 8, 9, 13, 27, 28, 32, 7, 12, 13, 6, 10, 6, 10, \n",
        "#           16, 16, 30, 32, 33, 33, 33, 32, 33, 32, 33, 32, 33, 33, 32, 33, 32, \n",
        "#           33, 25, 27, 29, 32, 33, 25, 27, 31, 31, 29, 33, 33, 31, 33, 32, 33, \n",
        "#           32, 33, 32, 33, 33]\n",
        "\n",
        "\n"
      ]
    },
    {
      "cell_type": "code",
      "execution_count": 7,
      "metadata": {
        "id": "RJeXYS0P70E3"
      },
      "outputs": [],
      "source": [
        "# dst_node=[0, 0, 0, 0, 0, 0, 0, 0, 0, 0, 0, 0, 0, 0, 0, 0, 1, 1, 1, 1, 1, 1, 1, \n",
        "#           1, 2, 2, 2, 2, 2, 2, 2, 2, 3, 3, 3, 4, 4, 5, 5, 5, 6, 8, 8, 8, 9, 13,\n",
        "#           14, 14, 15, 15, 18, 18, 19, 20, 20, 22, 22, 23, 23, 23, 23, 23, 24, \n",
        "#           24, 24, 25, 26, 26, 27, 28, 28, 29, 29, 30, 30, 31, 31, 32]\n"
      ]
    },
    {
      "cell_type": "markdown",
      "source": [
        "Now we have the graph structure: 👇"
      ],
      "metadata": {
        "id": "oq5kDMjb4Buh"
      }
    },
    {
      "cell_type": "code",
      "execution_count": 8,
      "metadata": {
        "id": "OgRZXiZEvL6m"
      },
      "outputs": [],
      "source": [
        "edge_index = torch.tensor([src_node,\n",
        "                           dst_node], dtype=torch.long)"
      ]
    },
    {
      "cell_type": "markdown",
      "source": [
        "Then we prepaire the featurs of each node. In an unaccepted and very simplified we use a constant integer for all nodes. "
      ],
      "metadata": {
        "id": "fwffE7eH4b00"
      }
    },
    {
      "cell_type": "code",
      "execution_count": 9,
      "metadata": {
        "id": "8QZqqDAj7U_H"
      },
      "outputs": [],
      "source": [
        "a=[]\n",
        "for i in range(35):\n",
        "  a+=[[1]]\n",
        "# a"
      ]
    },
    {
      "cell_type": "code",
      "execution_count": 10,
      "metadata": {
        "colab": {
          "base_uri": "https://localhost:8080/"
        },
        "id": "rUBxBnBosBDQ",
        "outputId": "5b75b3a1-7e18-4caf-b2c7-b67c98fc5c42"
      },
      "outputs": [
        {
          "output_type": "execute_result",
          "data": {
            "text/plain": [
              "35"
            ]
          },
          "metadata": {},
          "execution_count": 10
        }
      ],
      "source": [
        "len(a)"
      ]
    },
    {
      "cell_type": "code",
      "execution_count": 11,
      "metadata": {
        "id": "aEjTlMJU7HHW"
      },
      "outputs": [],
      "source": [
        "X = torch.tensor(a, dtype=torch.float)"
      ]
    },
    {
      "cell_type": "code",
      "execution_count": 12,
      "metadata": {
        "colab": {
          "base_uri": "https://localhost:8080/"
        },
        "id": "uowwQyM4kGzL",
        "outputId": "0df51eb0-a30b-4a16-8bfd-57d3f38bf027"
      },
      "outputs": [
        {
          "output_type": "execute_result",
          "data": {
            "text/plain": [
              "torch.Size([35, 1])"
            ]
          },
          "metadata": {},
          "execution_count": 12
        }
      ],
      "source": [
        "X.size()"
      ]
    },
    {
      "cell_type": "code",
      "execution_count": 13,
      "metadata": {
        "colab": {
          "base_uri": "https://localhost:8080/"
        },
        "id": "re6zu8MSkruA",
        "outputId": "0b246fa2-e07f-41cc-9046-1160d2d2f965"
      },
      "outputs": [
        {
          "output_type": "execute_result",
          "data": {
            "text/plain": [
              "torch.Size([2, 78])"
            ]
          },
          "metadata": {},
          "execution_count": 13
        }
      ],
      "source": [
        "edge_index.size()"
      ]
    },
    {
      "cell_type": "markdown",
      "source": [
        "Here we introduce the labeled nodes and their corresponding nodes: 👇"
      ],
      "metadata": {
        "id": "yJ2L45B-6NA_"
      }
    },
    {
      "cell_type": "code",
      "execution_count": 14,
      "metadata": {
        "id": "Pyen6UFMaDQI"
      },
      "outputs": [],
      "source": [
        "labeled_nodes=torch.tensor([0, 33],dtype=int)\n",
        "labels=torch.tensor([0, 1])"
      ]
    },
    {
      "cell_type": "markdown",
      "metadata": {
        "id": "iffIQvfD671h"
      },
      "source": [
        "#Training"
      ]
    },
    {
      "cell_type": "code",
      "execution_count": 15,
      "metadata": {
        "id": "kaU2iuRG3mP6"
      },
      "outputs": [],
      "source": [
        "from sklearn.metrics import accuracy_score"
      ]
    },
    {
      "cell_type": "code",
      "execution_count": 16,
      "metadata": {
        "id": "PVFbF5egRHOU"
      },
      "outputs": [],
      "source": [
        "import numpy as np"
      ]
    },
    {
      "cell_type": "markdown",
      "metadata": {
        "id": "HM_ScxmfRz5U"
      },
      "source": [
        "##Training with a constant number as a node feature:"
      ]
    },
    {
      "cell_type": "code",
      "execution_count": 17,
      "metadata": {
        "id": "QALb-8Raqr2y"
      },
      "outputs": [],
      "source": [
        "karate_model=model(1,5,2)"
      ]
    },
    {
      "cell_type": "code",
      "execution_count": 18,
      "metadata": {
        "id": "Ei5tMSswrJh1"
      },
      "outputs": [],
      "source": [
        "optimizer=torch.optim.Adam(karate_model.parameters())"
      ]
    },
    {
      "cell_type": "code",
      "execution_count": 19,
      "metadata": {
        "colab": {
          "base_uri": "https://localhost:8080/"
        },
        "id": "72EB_3jhsVIH",
        "outputId": "eff6ccbe-1a2d-4591-acfc-716bc8f4788c"
      },
      "outputs": [
        {
          "output_type": "stream",
          "name": "stdout",
          "text": [
            "epochs=0 , loss=-0.5 , accuracy=0.5\n",
            "epochs=100 , loss=-0.4999999701976776 , accuracy=0.5\n",
            "epochs=200 , loss=-0.5 , accuracy=0.5\n",
            "epochs=300 , loss=-0.5 , accuracy=0.5\n",
            "epochs=400 , loss=-0.5 , accuracy=0.5\n",
            "epochs=500 , loss=-0.5 , accuracy=0.5\n",
            "epochs=600 , loss=-0.5 , accuracy=0.5\n",
            "epochs=700 , loss=-0.5 , accuracy=0.5\n",
            "epochs=800 , loss=-0.5000000596046448 , accuracy=0.5\n",
            "epochs=900 , loss=-0.5 , accuracy=0.5\n"
          ]
        }
      ],
      "source": [
        "all_pred=[]\n",
        "for epochs in range(1000):\n",
        "  \n",
        "  pred_label=karate_model(X,edge_index)\n",
        "  all_pred.append(pred_label)\n",
        "  loss=F.nll_loss(pred_label[labeled_nodes],labels)\n",
        "  pred_y=np.argmax(pred_label[labeled_nodes].detach().numpy(), axis=1)\n",
        "  true_y=labels.numpy()\n",
        "  acc=accuracy_score(pred_y,true_y)\n",
        "  optimizer.zero_grad()\n",
        "  loss.backward()\n",
        "  optimizer.step()\n",
        "  if epochs%100==0 :\n",
        "    print(f'epochs={epochs} , loss={loss.item()} , accuracy={acc}')"
      ]
    },
    {
      "cell_type": "markdown",
      "metadata": {
        "id": "cBbVMjQMYyHS"
      },
      "source": [
        "##Training with node degrees as a feature: \n",
        "\n",
        "*   In this part I use the degree of each node as a feature. \n",
        "*   In order to calculate the degree of each node, I defined the graph as a NetwokX graph. Then I use the command '.degree' to calculate the degree of each node. \n",
        "\n"
      ]
    },
    {
      "cell_type": "markdown",
      "source": [
        "###Prepairing the data"
      ],
      "metadata": {
        "id": "RiAr1c7FPfmk"
      }
    },
    {
      "cell_type": "code",
      "execution_count": 20,
      "metadata": {
        "id": "B9a9xPMXY3pW"
      },
      "outputs": [],
      "source": [
        "import networkx as nx"
      ]
    },
    {
      "cell_type": "code",
      "execution_count": 21,
      "metadata": {
        "id": "zRMjgKQclEgC"
      },
      "outputs": [],
      "source": [
        "g=[]\n",
        "for i in range(len(src_node)):\n",
        "  g.append((src_node[i],dst_node[i]))\n"
      ]
    },
    {
      "cell_type": "code",
      "execution_count": 22,
      "metadata": {
        "id": "k0sjKuCVZnlk"
      },
      "outputs": [],
      "source": [
        "G = nx.from_edgelist(g)"
      ]
    },
    {
      "cell_type": "code",
      "execution_count": 23,
      "metadata": {
        "colab": {
          "base_uri": "https://localhost:8080/"
        },
        "id": "Gs3B_uIzzNY6",
        "outputId": "b228b67d-5b8e-422a-88c7-53b2e69233ac"
      },
      "outputs": [
        {
          "output_type": "execute_result",
          "data": {
            "text/plain": [
              "DegreeView({1: 9, 0: 16, 2: 10, 3: 6, 4: 3, 5: 4, 6: 4, 7: 4, 8: 5, 10: 3, 11: 1, 12: 2, 13: 5, 17: 2, 19: 3, 21: 2, 31: 6, 30: 4, 9: 2, 27: 4, 28: 3, 32: 12, 16: 2, 33: 17, 14: 2, 15: 2, 18: 2, 20: 2, 22: 2, 25: 3, 23: 5, 29: 4, 24: 3, 26: 2})"
            ]
          },
          "metadata": {},
          "execution_count": 23
        }
      ],
      "source": [
        "G.degree"
      ]
    },
    {
      "cell_type": "code",
      "execution_count": 24,
      "metadata": {
        "id": "1Mja2TuI2TnG"
      },
      "outputs": [],
      "source": [
        "a=[]\n",
        "for i in range(34):\n",
        "  a+=[G.degree[i]]"
      ]
    },
    {
      "cell_type": "markdown",
      "source": [
        "###Training with node degrees as feature:"
      ],
      "metadata": {
        "id": "gmT3I7pD8krw"
      }
    },
    {
      "cell_type": "code",
      "execution_count": 25,
      "metadata": {
        "id": "PCVrPrkC25JP"
      },
      "outputs": [],
      "source": [
        "karate_model=model(1,5,2)"
      ]
    },
    {
      "cell_type": "code",
      "execution_count": 26,
      "metadata": {
        "id": "PHH-GXoh25JQ"
      },
      "outputs": [],
      "source": [
        "optimizer=torch.optim.Adam(karate_model.parameters())"
      ]
    },
    {
      "cell_type": "code",
      "execution_count": 27,
      "metadata": {
        "colab": {
          "base_uri": "https://localhost:8080/"
        },
        "id": "GLW6tug425JR",
        "outputId": "8df30461-e4e7-4658-cf7b-583ee735488a"
      },
      "outputs": [
        {
          "output_type": "stream",
          "name": "stdout",
          "text": [
            "epochs=0 , loss=-0.43951529264450073 , accuracy=0.5\n",
            "epochs=100 , loss=-0.4851658046245575 , accuracy=0.5\n",
            "epochs=200 , loss=-0.5032204985618591 , accuracy=0.5\n",
            "epochs=300 , loss=-0.5181179046630859 , accuracy=0.5\n",
            "epochs=400 , loss=-0.5414080023765564 , accuracy=0.5\n",
            "epochs=500 , loss=-0.5741615295410156 , accuracy=0.5\n",
            "epochs=600 , loss=-0.6150908470153809 , accuracy=0.5\n",
            "epochs=700 , loss=-0.6597784757614136 , accuracy=1.0\n",
            "epochs=800 , loss=-0.7046401500701904 , accuracy=1.0\n",
            "epochs=900 , loss=-0.7474980354309082 , accuracy=1.0\n"
          ]
        }
      ],
      "source": [
        "all_pred=[]\n",
        "for epochs in range(1000):\n",
        "  pred_label=karate_model(X,edge_index)\n",
        "  all_pred.append(pred_label)\n",
        "  loss=F.nll_loss(pred_label[labeled_nodes],labels)\n",
        "  pred_y=np.argmax(pred_label[labeled_nodes].detach().numpy(), axis=1)\n",
        "  true_y=labels.numpy()\n",
        "  acc=accuracy_score(pred_y,true_y)\n",
        "  optimizer.zero_grad()\n",
        "  loss.backward()\n",
        "  optimizer.step()\n",
        "  if epochs%100==0:\n",
        "    print(f'epochs={epochs} , loss={loss.item()} , accuracy={acc}')"
      ]
    },
    {
      "cell_type": "markdown",
      "metadata": {
        "id": "i_ouhcYZRhSz"
      },
      "source": [
        "##Training with embedding:\n",
        "\n",
        "*   When we have no feature for nodes and we only have the structure of the graph, we can use the node embedding as feature input of the model. \n",
        "*   Then, during the training, both the model parameters and the parameters of node embeddings would be found. \n",
        "\n"
      ]
    },
    {
      "cell_type": "code",
      "execution_count": 28,
      "metadata": {
        "id": "hsGm1rBnp96e"
      },
      "outputs": [],
      "source": [
        "embed = torch.nn.Embedding(35, 5)\n",
        "X=embed.weight\n",
        "X=X.requires_grad_(True)"
      ]
    },
    {
      "cell_type": "code",
      "execution_count": 29,
      "metadata": {
        "id": "co7JuRquWqEV"
      },
      "outputs": [],
      "source": [
        "karate_model=model(5,5,2)"
      ]
    },
    {
      "cell_type": "code",
      "execution_count": 30,
      "metadata": {
        "id": "JUk_3rHGWqEX"
      },
      "outputs": [],
      "source": [
        "from itertools import chain \n",
        "optimizer=torch.optim.Adam(chain(karate_model.parameters(),embed.parameters()))"
      ]
    },
    {
      "cell_type": "code",
      "execution_count": 31,
      "metadata": {
        "colab": {
          "base_uri": "https://localhost:8080/"
        },
        "id": "cDehaphCVO7z",
        "outputId": "855b1728-c04a-4a4a-9d99-ed5df52eb692"
      },
      "outputs": [
        {
          "output_type": "stream",
          "name": "stdout",
          "text": [
            "epochs=0 , loss=-0.4650305509567261 , accuracy=0.5\n",
            "epochs=100 , loss=-0.5685721635818481 , accuracy=0.5\n",
            "epochs=200 , loss=-0.7119004726409912 , accuracy=1.0\n",
            "epochs=300 , loss=-0.8342750072479248 , accuracy=1.0\n",
            "epochs=400 , loss=-0.8872225284576416 , accuracy=1.0\n",
            "epochs=500 , loss=-0.9139349460601807 , accuracy=1.0\n",
            "epochs=600 , loss=-0.9307501316070557 , accuracy=1.0\n",
            "epochs=700 , loss=-0.9425444602966309 , accuracy=1.0\n",
            "epochs=800 , loss=-0.9513797163963318 , accuracy=1.0\n",
            "epochs=900 , loss=-0.9581913352012634 , accuracy=1.0\n"
          ]
        }
      ],
      "source": [
        "all_pred=[]\n",
        "all_loss=[]\n",
        "for epochs in range(1000):\n",
        "  pred_label=karate_model(X,edge_index)\n",
        "  all_pred.append(pred_label)\n",
        "  loss=F.nll_loss(pred_label[labeled_nodes],labels)\n",
        "  pred_y=np.argmax(pred_label[labeled_nodes].detach().numpy(), axis=1)\n",
        "  true_y=labels.numpy()\n",
        "  acc=accuracy_score(pred_y,true_y)\n",
        "  optimizer.zero_grad()\n",
        "  loss.backward()\n",
        "  all_loss.append(loss.item())\n",
        "  optimizer.step()\n",
        "  if epochs%100==0:\n",
        "    print(f'epochs={epochs} , loss={loss.item()} , accuracy={acc}')"
      ]
    },
    {
      "cell_type": "markdown",
      "metadata": {
        "id": "VgUGI7J8aCbx"
      },
      "source": [
        "#This time, I use the NetworkX Karate dataset and node embedding.\n",
        "\n",
        "*   I use the edge index of this dataset and then transform it into the torch.\n",
        "*   In this dataset, we have the labels of all nodes after split up. I use it to better estimate the accuracy of the model. \n",
        "\n",
        "\n",
        "*   I can use the node degree as a feature. But I skip it and again I use the node embedding.\n",
        "*   In the following you can see the structure of this dataset.\n",
        "\n",
        "\n",
        "\n",
        "\n"
      ]
    },
    {
      "cell_type": "code",
      "execution_count": 32,
      "metadata": {
        "id": "xhsgD1LO23Rp"
      },
      "outputs": [],
      "source": [
        "G = nx.karate_club_graph()\n"
      ]
    },
    {
      "cell_type": "code",
      "execution_count": 33,
      "metadata": {
        "id": "h2Pan-PfY6-X"
      },
      "outputs": [],
      "source": [
        "from torch_geometric.utils import from_networkx"
      ]
    },
    {
      "cell_type": "code",
      "execution_count": 34,
      "metadata": {
        "id": "68J6zgEJaLwu"
      },
      "outputs": [],
      "source": [
        "G_data=from_networkx(G)"
      ]
    },
    {
      "cell_type": "code",
      "execution_count": 35,
      "metadata": {
        "colab": {
          "base_uri": "https://localhost:8080/"
        },
        "id": "1KK6DvR0a9Ga",
        "outputId": "124f6dfc-f528-4f4a-d499-1a0ccbc47339"
      },
      "outputs": [
        {
          "output_type": "execute_result",
          "data": {
            "text/plain": [
              "Data(edge_index=[2, 156], club=[34], num_nodes=34)"
            ]
          },
          "metadata": {},
          "execution_count": 35
        }
      ],
      "source": [
        "G_data"
      ]
    },
    {
      "cell_type": "code",
      "execution_count": 36,
      "metadata": {
        "id": "i-npaV2baQGe"
      },
      "outputs": [],
      "source": [
        "edge_index=G_data.edge_index"
      ]
    },
    {
      "cell_type": "code",
      "execution_count": 37,
      "metadata": {
        "id": "4FPrUZ-BU8wh"
      },
      "outputs": [],
      "source": [
        "embed = torch.nn.Embedding(34, 5)\n",
        "X=embed.weight\n",
        "X=X.requires_grad_(True)"
      ]
    },
    {
      "cell_type": "code",
      "execution_count": 38,
      "metadata": {
        "colab": {
          "base_uri": "https://localhost:8080/"
        },
        "id": "cpoIXAFUdIyW",
        "outputId": "cbb9ae63-2c39-4c57-8bae-7333d032ef86"
      },
      "outputs": [
        {
          "output_type": "execute_result",
          "data": {
            "text/plain": [
              "{'Mr. Hi', 'Officer'}"
            ]
          },
          "metadata": {},
          "execution_count": 38
        }
      ],
      "source": [
        "set(G_data.club)"
      ]
    },
    {
      "cell_type": "code",
      "execution_count": 39,
      "metadata": {
        "id": "hT_QfBhiavVv"
      },
      "outputs": [],
      "source": [
        "y=[1 if i=='Officer' else 0 for i in G_data.club]"
      ]
    },
    {
      "cell_type": "code",
      "execution_count": 40,
      "metadata": {
        "id": "_81_CaBMhxf1"
      },
      "outputs": [],
      "source": [
        "y=torch.tensor(y)"
      ]
    },
    {
      "cell_type": "code",
      "execution_count": 41,
      "metadata": {
        "id": "ar7alLNNU8wh"
      },
      "outputs": [],
      "source": [
        "karate_model=model(5,5,2)"
      ]
    },
    {
      "cell_type": "code",
      "execution_count": 42,
      "metadata": {
        "id": "mYJEZyyMU8wi"
      },
      "outputs": [],
      "source": [
        "from itertools import chain\n",
        "optimizer=torch.optim.Adam(chain(karate_model.parameters(),embed.parameters()))"
      ]
    },
    {
      "cell_type": "code",
      "execution_count": 43,
      "metadata": {
        "colab": {
          "base_uri": "https://localhost:8080/"
        },
        "id": "qSHl3vh_U8wi",
        "outputId": "621cddd0-488b-4b64-f322-9a1cd6348684"
      },
      "outputs": [
        {
          "output_type": "stream",
          "name": "stdout",
          "text": [
            "epochs=0 , loss=-0.513066828250885 , accuracy=0.6470588235294118\n",
            "epochs=100 , loss=-0.6070787906646729 , accuracy=0.8235294117647058\n",
            "epochs=200 , loss=-0.7907233834266663 , accuracy=0.9411764705882353\n",
            "epochs=300 , loss=-0.8997774124145508 , accuracy=0.9411764705882353\n",
            "epochs=400 , loss=-0.9435380101203918 , accuracy=1.0\n",
            "epochs=500 , loss=-0.960434079170227 , accuracy=1.0\n",
            "epochs=600 , loss=-0.9693756103515625 , accuracy=1.0\n",
            "epochs=700 , loss=-0.975655734539032 , accuracy=1.0\n",
            "epochs=800 , loss=-0.980874240398407 , accuracy=1.0\n",
            "epochs=900 , loss=-0.9853042364120483 , accuracy=1.0\n"
          ]
        }
      ],
      "source": [
        "all_loss=[]\n",
        "for epochs in range(1000):\n",
        "  \n",
        "  pred_label=karate_model(X,edge_index)\n",
        "  loss=F.nll_loss(pred_label,y)\n",
        "  pred_y=np.argmax(pred_label.detach().numpy(), axis=1)\n",
        "  true_y=y.numpy()\n",
        "  acc=accuracy_score(pred_y,true_y)\n",
        "  optimizer.zero_grad()\n",
        "  loss.backward()\n",
        "  all_loss.append(loss.item())\n",
        "  optimizer.step()\n",
        "  if epochs%100==0:\n",
        "    print(f'epochs={epochs} , loss={loss.item()} , accuracy={acc}')"
      ]
    },
    {
      "cell_type": "code",
      "execution_count": 44,
      "metadata": {
        "id": "oQktghy6iLFH",
        "colab": {
          "base_uri": "https://localhost:8080/",
          "height": 282
        },
        "outputId": "01655e67-af43-4524-93f2-ef9aea6bdced"
      },
      "outputs": [
        {
          "output_type": "execute_result",
          "data": {
            "text/plain": [
              "[<matplotlib.lines.Line2D at 0x7f65c57a0290>]"
            ]
          },
          "metadata": {},
          "execution_count": 44
        },
        {
          "output_type": "display_data",
          "data": {
            "text/plain": [
              "<Figure size 432x288 with 1 Axes>"
            ],
            "image/png": "[encoded data removed]"
          },
          "metadata": {
            "needs_background": "light"
          }
        }
      ],
      "source": [
        "import matplotlib.pyplot as plt\n",
        "plt.plot(all_loss)"
      ]
    },
    {
      "cell_type": "code",
      "source": [
        ""
      ],
      "metadata": {
        "id": "OuD0vuwXO5ts"
      },
      "execution_count": 44,
      "outputs": []
    },
    {
      "cell_type": "markdown",
      "source": [
        "#Considering the weight of edges"
      ],
      "metadata": {
        "id": "bDNoD8QrP59V"
      }
    },
    {
      "cell_type": "markdown",
      "metadata": {
        "id": "DPRsNOZ0QCQP"
      },
      "source": [
        "*   Using the **adjacency** matrix instead of edge-index.\n",
        "*   Using the Networkx dataset labels. \n",
        "*   Using the node embedding.\n",
        "\n",
        "\n",
        "\n",
        "\n",
        "\n",
        "\n",
        "\n"
      ]
    },
    {
      "cell_type": "code",
      "source": [
        "!wget http://vlado.fmf.uni-lj.si/pub/networks/data/Ucinet/zachary.dat"
      ],
      "metadata": {
        "colab": {
          "base_uri": "https://localhost:8080/"
        },
        "id": "7RDts9Bgg3iT",
        "outputId": "945de789-592f-4118-f01c-170af7c1a3e0"
      },
      "execution_count": 45,
      "outputs": [
        {
          "output_type": "stream",
          "name": "stdout",
          "text": [
            "--2022-07-05 05:52:49--  http://vlado.fmf.uni-lj.si/pub/networks/data/Ucinet/zachary.dat\n",
            "Resolving vlado.fmf.uni-lj.si (vlado.fmf.uni-lj.si)... 193.2.67.80\n",
            "Connecting to vlado.fmf.uni-lj.si (vlado.fmf.uni-lj.si)|193.2.67.80|:80... connected.\n",
            "HTTP request sent, awaiting response... 200 OK\n",
            "Length: 4849 (4.7K) [text/plain]\n",
            "Saving to: ‘zachary.dat’\n",
            "\n",
            "zachary.dat         100%[===================>]   4.74K  18.3KB/s    in 0.3s    \n",
            "\n",
            "2022-07-05 05:52:50 (18.3 KB/s) - ‘zachary.dat’ saved [4849/4849]\n",
            "\n"
          ]
        }
      ]
    },
    {
      "cell_type": "markdown",
      "source": [
        "Note! the file contains two matrix, the first 34 rows belong to adj matrix with weightless edges. We should use the second 34 rows."
      ],
      "metadata": {
        "id": "SMejtN2DkmL_"
      }
    },
    {
      "cell_type": "code",
      "source": [
        "f=open('/content/zachary.dat','r')\n",
        "adj=[]\n",
        "for i in range(75):\n",
        "  line=f.readline()\n",
        "  if i>40:\n",
        "    # print(line.split())\n",
        "    row=[int(j) for j in line.split()]\n",
        "    adj=adj+[row]\n",
        "adj=np.array(adj)"
      ],
      "metadata": {
        "id": "Rh16o9jzhIS5"
      },
      "execution_count": 46,
      "outputs": []
    },
    {
      "cell_type": "code",
      "source": [
        "adj"
      ],
      "metadata": {
        "colab": {
          "base_uri": "https://localhost:8080/"
        },
        "id": "-IaeFBl7jWgJ",
        "outputId": "00cff385-1a5d-4460-ceb5-406958092cff"
      },
      "execution_count": 47,
      "outputs": [
        {
          "output_type": "execute_result",
          "data": {
            "text/plain": [
              "array([[0, 4, 5, ..., 2, 0, 0],\n",
              "       [4, 0, 6, ..., 0, 0, 0],\n",
              "       [5, 6, 0, ..., 0, 2, 0],\n",
              "       ...,\n",
              "       [2, 0, 0, ..., 0, 4, 4],\n",
              "       [0, 0, 2, ..., 4, 0, 5],\n",
              "       [0, 0, 0, ..., 4, 5, 0]])"
            ]
          },
          "metadata": {},
          "execution_count": 47
        }
      ]
    },
    {
      "cell_type": "code",
      "source": [
        "adj.shape"
      ],
      "metadata": {
        "colab": {
          "base_uri": "https://localhost:8080/"
        },
        "id": "2joYJj0OjnBS",
        "outputId": "e711b1cd-a26a-4881-d592-3c2b8ef35283"
      },
      "execution_count": 48,
      "outputs": [
        {
          "output_type": "execute_result",
          "data": {
            "text/plain": [
              "(34, 34)"
            ]
          },
          "metadata": {},
          "execution_count": 48
        }
      ]
    },
    {
      "cell_type": "code",
      "execution_count": 49,
      "metadata": {
        "id": "A_WKEERdQCQQ"
      },
      "outputs": [],
      "source": [
        "G = nx.from_numpy_matrix(adj,create_using=nx.MultiGraph)\n"
      ]
    },
    {
      "cell_type": "code",
      "source": [
        "G=G.to_undirected()"
      ],
      "metadata": {
        "id": "ctW1RzSE-_wD"
      },
      "execution_count": 50,
      "outputs": []
    },
    {
      "cell_type": "code",
      "execution_count": 51,
      "metadata": {
        "id": "Z69vKsj9QCQR"
      },
      "outputs": [],
      "source": [
        "from torch_geometric.utils import from_networkx"
      ]
    },
    {
      "cell_type": "code",
      "execution_count": 52,
      "metadata": {
        "id": "Wev5P-kuQCQS"
      },
      "outputs": [],
      "source": [
        "G_data_w=from_networkx(G)"
      ]
    },
    {
      "cell_type": "code",
      "source": [
        "G_data_w"
      ],
      "metadata": {
        "colab": {
          "base_uri": "https://localhost:8080/"
        },
        "id": "QoaJgFZAESL2",
        "outputId": "32f0fd91-1142-42e0-8edc-991128593bcc"
      },
      "execution_count": 53,
      "outputs": [
        {
          "output_type": "execute_result",
          "data": {
            "text/plain": [
              "Data(edge_index=[2, 156], weight=[156], num_nodes=34)"
            ]
          },
          "metadata": {},
          "execution_count": 53
        }
      ]
    },
    {
      "cell_type": "code",
      "execution_count": 54,
      "metadata": {
        "colab": {
          "base_uri": "https://localhost:8080/"
        },
        "outputId": "ce4b4d3e-a15f-4a8f-b46a-446794e0f99a",
        "id": "eSn0heHpQCQS"
      },
      "outputs": [
        {
          "output_type": "execute_result",
          "data": {
            "text/plain": [
              "tensor([4, 5, 3, 3, 3, 3, 2, 2, 2, 3, 1, 3, 2, 2, 2, 2, 4, 6, 3, 4, 5, 1, 2, 2,\n",
              "        2, 5, 6, 3, 4, 5, 1, 3, 2, 2, 2, 3, 3, 3, 3, 3, 3, 3, 2, 3, 3, 5, 3, 3,\n",
              "        3, 2, 5, 3, 2, 4, 4, 3, 2, 5, 3, 3, 4, 1, 2, 2, 3, 3, 3, 1, 3, 3, 5, 3,\n",
              "        3, 3, 3, 2, 3, 4, 3, 3, 2, 1, 1, 2, 2, 2, 1, 3, 1, 2, 2, 2, 3, 5, 4, 3,\n",
              "        5, 4, 2, 3, 2, 5, 2, 7, 4, 2, 2, 4, 3, 4, 2, 2, 2, 3, 4, 4, 2, 2, 3, 3,\n",
              "        3, 2, 2, 7, 2, 4, 4, 2, 3, 3, 3, 1, 3, 2, 5, 4, 3, 4, 5, 4, 2, 3, 2, 4,\n",
              "        2, 1, 1, 3, 4, 2, 4, 2, 2, 3, 4, 5])"
            ]
          },
          "metadata": {},
          "execution_count": 54
        }
      ],
      "source": [
        "G_data_w.weight"
      ]
    },
    {
      "cell_type": "code",
      "source": [
        "edge_weight=G_data_w.weight"
      ],
      "metadata": {
        "id": "ZKFAH0NSl7f4"
      },
      "execution_count": 55,
      "outputs": []
    },
    {
      "cell_type": "code",
      "source": [
        "edge_weight=edge_weight.float()"
      ],
      "metadata": {
        "id": "aAZ0y5d-JMCg"
      },
      "execution_count": 56,
      "outputs": []
    },
    {
      "cell_type": "code",
      "execution_count": 57,
      "metadata": {
        "id": "XazRwIfyQCQT"
      },
      "outputs": [],
      "source": [
        "edge_index=G_data_w.edge_index"
      ]
    },
    {
      "cell_type": "code",
      "execution_count": 58,
      "metadata": {
        "id": "B4cC2_z4QCQU"
      },
      "outputs": [],
      "source": [
        "embed = torch.nn.Embedding(34, 5)\n",
        "X=embed.weight\n",
        "X=X.requires_grad_(True)"
      ]
    },
    {
      "cell_type": "code",
      "execution_count": 59,
      "metadata": {
        "id": "w1l60O5qQCQW"
      },
      "outputs": [],
      "source": [
        "y=[1 if i=='Officer' else 0 for i in G_data.club]"
      ]
    },
    {
      "cell_type": "code",
      "execution_count": 60,
      "metadata": {
        "id": "XxhJxkR6QCQX"
      },
      "outputs": [],
      "source": [
        "y=torch.tensor(y)"
      ]
    },
    {
      "cell_type": "code",
      "source": [
        "class model(Module):\n",
        "  def __init__(self,inn_chan,hidden_chan,out_chan):\n",
        "    super(model, self).__init__()\n",
        "    self.GCN1=GCNConv(inn_chan,hidden_chan)\n",
        "    self.GCN2=GCNConv(hidden_chan,out_chan)\n",
        "    self.lin=torch.nn.Linear(out_chan,2)\n",
        "  def forward(self,x,edge_index,edge_weight):\n",
        "    h=self.GCN1(x,edge_index,edge_weight)\n",
        "    h=torch.relu(h)\n",
        "    h=self.GCN2(h,edge_index,edge_weight)\n",
        "    h=torch.relu(h)\n",
        "    h=self.lin(h)\n",
        "    h=F.softmax(h,1)\n",
        "    return h"
      ],
      "metadata": {
        "id": "-JiS_3lglsMa"
      },
      "execution_count": 65,
      "outputs": []
    },
    {
      "cell_type": "code",
      "execution_count": 66,
      "metadata": {
        "id": "tAm8oSPpQCQX"
      },
      "outputs": [],
      "source": [
        "karate_model=model(5,5,2)"
      ]
    },
    {
      "cell_type": "code",
      "execution_count": 67,
      "metadata": {
        "id": "7HXa0YfXQCQY"
      },
      "outputs": [],
      "source": [
        "from itertools import chain\n",
        "optimizer=torch.optim.Adam(chain(karate_model.parameters(),embed.parameters()))"
      ]
    },
    {
      "cell_type": "code",
      "execution_count": 68,
      "metadata": {
        "colab": {
          "base_uri": "https://localhost:8080/"
        },
        "outputId": "9dfe02d3-e638-4c11-e1c6-b760b02b64d8",
        "id": "AvgEadLnQCQZ"
      },
      "outputs": [
        {
          "output_type": "stream",
          "name": "stdout",
          "text": [
            "epochs=0 , loss=-0.49995148181915283 , accuracy=0.5\n",
            "epochs=100 , loss=-0.5614181756973267 , accuracy=0.9705882352941176\n",
            "epochs=200 , loss=-0.7602657079696655 , accuracy=1.0\n",
            "epochs=300 , loss=-0.8403760194778442 , accuracy=1.0\n",
            "epochs=400 , loss=-0.875643253326416 , accuracy=1.0\n",
            "epochs=500 , loss=-0.8989167213439941 , accuracy=1.0\n",
            "epochs=600 , loss=-0.9165377616882324 , accuracy=1.0\n",
            "epochs=700 , loss=-0.9306977391242981 , accuracy=1.0\n",
            "epochs=800 , loss=-0.9417466521263123 , accuracy=1.0\n",
            "epochs=900 , loss=-0.9502871036529541 , accuracy=1.0\n"
          ]
        }
      ],
      "source": [
        "\n",
        "all_loss=[]\n",
        "for epochs in range(1000):\n",
        "  pred_label=karate_model(X,edge_index,edge_weight)\n",
        "  loss=F.nll_loss(pred_label,y)\n",
        "  pred_y=np.argmax(pred_label.detach().numpy(), axis=1)\n",
        "  true_y=y.numpy()\n",
        "  acc=accuracy_score(pred_y,true_y)\n",
        "  optimizer.zero_grad()\n",
        "  loss.backward()\n",
        "  all_loss.append(loss.item())\n",
        "  optimizer.step()\n",
        "  if epochs%100==0:\n",
        "    print(f'epochs={epochs} , loss={loss.item()} , accuracy={acc}')"
      ]
    },
    {
      "cell_type": "code",
      "source": [
        ""
      ],
      "metadata": {
        "id": "Dgf7HdAFStco"
      },
      "execution_count": 64,
      "outputs": []
    }
  ],
  "metadata": {
    "colab": {
      "name": "KarateClub-Pytorch-GCNConv.ipynb",
      "provenance": [],
      "collapsed_sections": [],
      "mount_file_id": "1f_pF9oiZEy82LiFoclNIbwPoS531DBLa",
      "authorship_tag": "ABX9TyPzIkmpIxL2CIFArtxYU11e",
      "include_colab_link": true
    },
    "kernelspec": {
      "display_name": "Python 3",
      "name": "python3"
    },
    "language_info": {
      "name": "python"
    }
  },
  "nbformat": 4,
  "nbformat_minor": 0
}